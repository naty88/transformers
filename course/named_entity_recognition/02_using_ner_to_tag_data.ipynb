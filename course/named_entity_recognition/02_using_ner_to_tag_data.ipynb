{
 "cells": [
  {
   "cell_type": "markdown",
   "metadata": {},
   "source": [
    "# Using NER to Tag Data\n",
    "\n",
    "We are using the dataset pulled from */r/investing* and the SpaCy NER code covered in the previous sections."
   ]
  },
  {
   "cell_type": "code",
   "execution_count": 1,
   "metadata": {
    "tags": []
   },
   "outputs": [
    {
     "name": "stderr",
     "output_type": "stream",
     "text": [
      "2023-05-06 21:40:18.026568: I tensorflow/stream_executor/cuda/cuda_gpu_executor.cc:975] successful NUMA node read from SysFS had negative value (-1), but there must be at least one NUMA node, so returning NUMA node zero\n",
      "2023-05-06 21:40:18.050734: I tensorflow/stream_executor/cuda/cuda_gpu_executor.cc:975] successful NUMA node read from SysFS had negative value (-1), but there must be at least one NUMA node, so returning NUMA node zero\n",
      "2023-05-06 21:40:18.050909: I tensorflow/stream_executor/cuda/cuda_gpu_executor.cc:975] successful NUMA node read from SysFS had negative value (-1), but there must be at least one NUMA node, so returning NUMA node zero\n"
     ]
    }
   ],
   "source": [
    "import spacy\n",
    "import pandas as pd\n",
    "\n",
    "nlp = spacy.load('en_core_web_sm')"
   ]
  },
  {
   "cell_type": "markdown",
   "metadata": {},
   "source": [
    "The NER code will be reformated into a function that will consume a length of text, and return a list of mentioned organizations:"
   ]
  },
  {
   "cell_type": "code",
   "execution_count": 2,
   "metadata": {
    "tags": []
   },
   "outputs": [],
   "source": [
    "def get_orgs(text):\n",
    "    # process the text with our SpaCy model to get named entities\n",
    "    doc = nlp(text)\n",
    "    # initialize list to store identified organizations\n",
    "    org_list = []\n",
    "    # loop through the identified entities and append ORG entities to org_list\n",
    "    for entity in doc.ents:\n",
    "        if entity.label_ == 'ORG':\n",
    "            org_list.append(entity.text)\n",
    "    # if organization is identified more than once it will appear multiple times in list\n",
    "    # we use set() to remove duplicates then convert back to list\n",
    "    org_list = list(set(org_list))\n",
    "    return org_list"
   ]
  },
  {
   "cell_type": "markdown",
   "metadata": {},
   "source": [
    "## Applying NER\n",
    "\n",
    "All we need to do now is load in the */r/investing* data and apply the `get_orgs` function to our text column to create a new `organizations` column.\n",
    "\n",
    "1. Load the data and view the top five rows with `df.head()`:"
   ]
  },
  {
   "cell_type": "code",
   "execution_count": 5,
   "metadata": {
    "tags": []
   },
   "outputs": [
    {
     "data": {
      "text/html": [
       "<div>\n",
       "<style scoped>\n",
       "    .dataframe tbody tr th:only-of-type {\n",
       "        vertical-align: middle;\n",
       "    }\n",
       "\n",
       "    .dataframe tbody tr th {\n",
       "        vertical-align: top;\n",
       "    }\n",
       "\n",
       "    .dataframe thead th {\n",
       "        text-align: right;\n",
       "    }\n",
       "</style>\n",
       "<table border=\"1\" class=\"dataframe\">\n",
       "  <thead>\n",
       "    <tr style=\"text-align: right;\">\n",
       "      <th></th>\n",
       "      <th>id</th>\n",
       "      <th>created_utc</th>\n",
       "      <th>subreddit</th>\n",
       "      <th>title</th>\n",
       "      <th>selftext</th>\n",
       "      <th>upvote_ratio</th>\n",
       "      <th>ups</th>\n",
       "      <th>downs</th>\n",
       "      <th>score</th>\n",
       "    </tr>\n",
       "  </thead>\n",
       "  <tbody>\n",
       "    <tr>\n",
       "      <th>0</th>\n",
       "      <td>t3_139yfid</td>\n",
       "      <td>1683398660</td>\n",
       "      <td>investing</td>\n",
       "      <td>Low-end primary residence vs index stock portf...</td>\n",
       "      <td>This is quite anecdotal, and only applies to s...</td>\n",
       "      <td>1.00</td>\n",
       "      <td>3</td>\n",
       "      <td>0</td>\n",
       "      <td>3</td>\n",
       "    </tr>\n",
       "    <tr>\n",
       "      <th>1</th>\n",
       "      <td>t3_139y0se</td>\n",
       "      <td>1683397773</td>\n",
       "      <td>investing</td>\n",
       "      <td>Loaning shares to short sellers?</td>\n",
       "      <td>So my understanding about short-selling is tha...</td>\n",
       "      <td>0.67</td>\n",
       "      <td>1</td>\n",
       "      <td>0</td>\n",
       "      <td>1</td>\n",
       "    </tr>\n",
       "    <tr>\n",
       "      <th>2</th>\n",
       "      <td>t3_139xtc6</td>\n",
       "      <td>1683397318</td>\n",
       "      <td>investing</td>\n",
       "      <td>AI doesn’t beat human intelligence… Charlie Mu...</td>\n",
       "      <td>Asked ChatGBT what it thinks about the annual ...</td>\n",
       "      <td>0.32</td>\n",
       "      <td>0</td>\n",
       "      <td>0</td>\n",
       "      <td>0</td>\n",
       "    </tr>\n",
       "    <tr>\n",
       "      <th>3</th>\n",
       "      <td>t3_139wtm2</td>\n",
       "      <td>1683395147</td>\n",
       "      <td>investing</td>\n",
       "      <td>Taxes on dividend income vs salary?</td>\n",
       "      <td>I'm 31 and I make $115k USD pretax and my inve...</td>\n",
       "      <td>0.76</td>\n",
       "      <td>12</td>\n",
       "      <td>0</td>\n",
       "      <td>12</td>\n",
       "    </tr>\n",
       "    <tr>\n",
       "      <th>4</th>\n",
       "      <td>t3_139wt3y</td>\n",
       "      <td>1683395120</td>\n",
       "      <td>investing</td>\n",
       "      <td>Would the demystification and increase in publ...</td>\n",
       "      <td>There are a couple of factors I'm thinking of:...</td>\n",
       "      <td>0.84</td>\n",
       "      <td>26</td>\n",
       "      <td>0</td>\n",
       "      <td>26</td>\n",
       "    </tr>\n",
       "  </tbody>\n",
       "</table>\n",
       "</div>"
      ],
      "text/plain": [
       "           id  created_utc  subreddit  \\\n",
       "0  t3_139yfid   1683398660  investing   \n",
       "1  t3_139y0se   1683397773  investing   \n",
       "2  t3_139xtc6   1683397318  investing   \n",
       "3  t3_139wtm2   1683395147  investing   \n",
       "4  t3_139wt3y   1683395120  investing   \n",
       "\n",
       "                                               title  \\\n",
       "0  Low-end primary residence vs index stock portf...   \n",
       "1                   Loaning shares to short sellers?   \n",
       "2  AI doesn’t beat human intelligence… Charlie Mu...   \n",
       "3                Taxes on dividend income vs salary?   \n",
       "4  Would the demystification and increase in publ...   \n",
       "\n",
       "                                            selftext  upvote_ratio  ups  \\\n",
       "0  This is quite anecdotal, and only applies to s...          1.00    3   \n",
       "1  So my understanding about short-selling is tha...          0.67    1   \n",
       "2  Asked ChatGBT what it thinks about the annual ...          0.32    0   \n",
       "3  I'm 31 and I make $115k USD pretax and my inve...          0.76   12   \n",
       "4  There are a couple of factors I'm thinking of:...          0.84   26   \n",
       "\n",
       "   downs  score  \n",
       "0      0      3  \n",
       "1      0      1  \n",
       "2      0      0  \n",
       "3      0     12  \n",
       "4      0     26  "
      ]
     },
     "execution_count": 5,
     "metadata": {},
     "output_type": "execute_result"
    }
   ],
   "source": [
    "df = pd.read_csv('./data/reddit_investing.csv', sep='|')\n",
    "df.head()"
   ]
  },
  {
   "cell_type": "markdown",
   "metadata": {},
   "source": [
    "2. Extract mentioned organizations from `selftext` and add to a new column called `organizations`:"
   ]
  },
  {
   "cell_type": "code",
   "execution_count": 6,
   "metadata": {
    "tags": []
   },
   "outputs": [
    {
     "data": {
      "text/html": [
       "<div>\n",
       "<style scoped>\n",
       "    .dataframe tbody tr th:only-of-type {\n",
       "        vertical-align: middle;\n",
       "    }\n",
       "\n",
       "    .dataframe tbody tr th {\n",
       "        vertical-align: top;\n",
       "    }\n",
       "\n",
       "    .dataframe thead th {\n",
       "        text-align: right;\n",
       "    }\n",
       "</style>\n",
       "<table border=\"1\" class=\"dataframe\">\n",
       "  <thead>\n",
       "    <tr style=\"text-align: right;\">\n",
       "      <th></th>\n",
       "      <th>id</th>\n",
       "      <th>created_utc</th>\n",
       "      <th>subreddit</th>\n",
       "      <th>title</th>\n",
       "      <th>selftext</th>\n",
       "      <th>upvote_ratio</th>\n",
       "      <th>ups</th>\n",
       "      <th>downs</th>\n",
       "      <th>score</th>\n",
       "      <th>organizations</th>\n",
       "    </tr>\n",
       "  </thead>\n",
       "  <tbody>\n",
       "    <tr>\n",
       "      <th>0</th>\n",
       "      <td>t3_139yfid</td>\n",
       "      <td>1683398660</td>\n",
       "      <td>investing</td>\n",
       "      <td>Low-end primary residence vs index stock portf...</td>\n",
       "      <td>This is quite anecdotal, and only applies to s...</td>\n",
       "      <td>1.00</td>\n",
       "      <td>3</td>\n",
       "      <td>0</td>\n",
       "      <td>3</td>\n",
       "      <td>[150k]</td>\n",
       "    </tr>\n",
       "    <tr>\n",
       "      <th>1</th>\n",
       "      <td>t3_139y0se</td>\n",
       "      <td>1683397773</td>\n",
       "      <td>investing</td>\n",
       "      <td>Loaning shares to short sellers?</td>\n",
       "      <td>So my understanding about short-selling is tha...</td>\n",
       "      <td>0.67</td>\n",
       "      <td>1</td>\n",
       "      <td>0</td>\n",
       "      <td>1</td>\n",
       "      <td>[]</td>\n",
       "    </tr>\n",
       "    <tr>\n",
       "      <th>2</th>\n",
       "      <td>t3_139xtc6</td>\n",
       "      <td>1683397318</td>\n",
       "      <td>investing</td>\n",
       "      <td>AI doesn’t beat human intelligence… Charlie Mu...</td>\n",
       "      <td>Asked ChatGBT what it thinks about the annual ...</td>\n",
       "      <td>0.32</td>\n",
       "      <td>0</td>\n",
       "      <td>0</td>\n",
       "      <td>0</td>\n",
       "      <td>[YouTube, AI]</td>\n",
       "    </tr>\n",
       "    <tr>\n",
       "      <th>3</th>\n",
       "      <td>t3_139wtm2</td>\n",
       "      <td>1683395147</td>\n",
       "      <td>investing</td>\n",
       "      <td>Taxes on dividend income vs salary?</td>\n",
       "      <td>I'm 31 and I make $115k USD pretax and my inve...</td>\n",
       "      <td>0.76</td>\n",
       "      <td>12</td>\n",
       "      <td>0</td>\n",
       "      <td>12</td>\n",
       "      <td>[]</td>\n",
       "    </tr>\n",
       "    <tr>\n",
       "      <th>4</th>\n",
       "      <td>t3_139wt3y</td>\n",
       "      <td>1683395120</td>\n",
       "      <td>investing</td>\n",
       "      <td>Would the demystification and increase in publ...</td>\n",
       "      <td>There are a couple of factors I'm thinking of:...</td>\n",
       "      <td>0.84</td>\n",
       "      <td>26</td>\n",
       "      <td>0</td>\n",
       "      <td>26</td>\n",
       "      <td>[]</td>\n",
       "    </tr>\n",
       "  </tbody>\n",
       "</table>\n",
       "</div>"
      ],
      "text/plain": [
       "           id  created_utc  subreddit  \\\n",
       "0  t3_139yfid   1683398660  investing   \n",
       "1  t3_139y0se   1683397773  investing   \n",
       "2  t3_139xtc6   1683397318  investing   \n",
       "3  t3_139wtm2   1683395147  investing   \n",
       "4  t3_139wt3y   1683395120  investing   \n",
       "\n",
       "                                               title  \\\n",
       "0  Low-end primary residence vs index stock portf...   \n",
       "1                   Loaning shares to short sellers?   \n",
       "2  AI doesn’t beat human intelligence… Charlie Mu...   \n",
       "3                Taxes on dividend income vs salary?   \n",
       "4  Would the demystification and increase in publ...   \n",
       "\n",
       "                                            selftext  upvote_ratio  ups  \\\n",
       "0  This is quite anecdotal, and only applies to s...          1.00    3   \n",
       "1  So my understanding about short-selling is tha...          0.67    1   \n",
       "2  Asked ChatGBT what it thinks about the annual ...          0.32    0   \n",
       "3  I'm 31 and I make $115k USD pretax and my inve...          0.76   12   \n",
       "4  There are a couple of factors I'm thinking of:...          0.84   26   \n",
       "\n",
       "   downs  score  organizations  \n",
       "0      0      3         [150k]  \n",
       "1      0      1             []  \n",
       "2      0      0  [YouTube, AI]  \n",
       "3      0     12             []  \n",
       "4      0     26             []  "
      ]
     },
     "execution_count": 6,
     "metadata": {},
     "output_type": "execute_result"
    }
   ],
   "source": [
    "df['organizations'] = df['selftext'].apply(get_orgs)\n",
    "df.head()"
   ]
  },
  {
   "cell_type": "markdown",
   "metadata": {},
   "source": [
    "*(This step can take a long time to run. It can be useful to break larger datasets into more manageable chunks if required)*\n",
    "\n",
    "Now we have a list of all mentioned organizations contained within the `organizations` column. We will now take the full column, merge each list, and use `Counter` to create a frequency table of organization mentions."
   ]
  },
  {
   "cell_type": "code",
   "execution_count": 7,
   "metadata": {
    "tags": []
   },
   "outputs": [
    {
     "data": {
      "text/plain": [
       "['150k',\n",
       " 'YouTube',\n",
       " 'AI',\n",
       " 'WeBull',\n",
       " 'Interactive Brokers',\n",
       " 'Here](https://www.bogleheads.org/wiki/Nonresident_alien_taxation#Is_interest_taxable_for_a_nonresident_alien',\n",
       " 'IRS',\n",
       " 'Wiki',\n",
       " 'FAQ',\n",
       " 'Petrodollar']"
      ]
     },
     "execution_count": 7,
     "metadata": {},
     "output_type": "execute_result"
    }
   ],
   "source": [
    "# merge organizations column into one big list\n",
    "orgs = df['organizations'].to_list()\n",
    "orgs = [org for sublist in orgs for org in sublist]\n",
    "orgs[:10]"
   ]
  },
  {
   "cell_type": "code",
   "execution_count": 12,
   "metadata": {
    "tags": []
   },
   "outputs": [],
   "source": [
    "from collections import Counter"
   ]
  },
  {
   "cell_type": "code",
   "execution_count": 13,
   "metadata": {
    "tags": []
   },
   "outputs": [],
   "source": [
    "# create dictionary of organization mention frequency\n",
    "org_freq = Counter(orgs)"
   ]
  },
  {
   "cell_type": "markdown",
   "metadata": {},
   "source": [
    "We now have a *Counter* dictionary containing all of our organization labels as *keys*, and their mention frequency as *values*. The `most_common(n)` method allows us to view the **n** most frequently mentioned organizations:"
   ]
  },
  {
   "cell_type": "code",
   "execution_count": 14,
   "metadata": {
    "tags": []
   },
   "outputs": [
    {
     "data": {
      "text/plain": [
       "[('Wiki', 47),\n",
       " ('FAQ', 47),\n",
       " ('Fed', 35),\n",
       " ('FDIC', 27),\n",
       " ('Fidelity', 23),\n",
       " ('VOO', 23),\n",
       " ('Vanguard', 20),\n",
       " ('USD', 18),\n",
       " ('AI', 14),\n",
       " ('fed', 13)]"
      ]
     },
     "execution_count": 14,
     "metadata": {},
     "output_type": "execute_result"
    }
   ],
   "source": [
    "org_freq.most_common(10)"
   ]
  },
  {
   "cell_type": "markdown",
   "metadata": {},
   "source": [
    "Clearly there is a need to do some further pruning of the data to remove non-organization labels like *EV* (electric vehicle), *COVID*, *ETF* (exchange trading fund), *NYSE*, and *SPAC* (special acquisition company). Depending on the use-case it may even be useful to keep a few of these, or remove a few others like *SEC* and *FDA*.\n",
    "\n",
    "To do this, we would create a custom list and implement it in our `get_orgs` function like so:"
   ]
  },
  {
   "cell_type": "code",
   "execution_count": 15,
   "metadata": {
    "tags": []
   },
   "outputs": [],
   "source": [
    "BLACKLIST = ['ev', 'covid', 'etf', 'nyse', 'sec', 'spac', 'fda']\n",
    "\n",
    "def get_orgs(text):\n",
    "    doc = nlp(text)\n",
    "    org_list = []\n",
    "    for entity in doc.ents:\n",
    "        # here we modify the original code to check that entity text is not equal to one of our 'blacklisted' organizations\n",
    "        # (we also add .lower() to lowercase the text, this allows us to match both 'nyse' and 'NYSE' with just 'nyse')\n",
    "        if entity.label_ == 'ORG' and entity.text.lower() not in BLACKLIST:\n",
    "            org_list.append(entity.text)\n",
    "    # if organization is identified more than once it will appear multiple times in list\n",
    "    # we use set() to remove duplicates then convert back to list\n",
    "    org_list = list(set(org_list))\n",
    "    return org_list"
   ]
  },
  {
   "cell_type": "markdown",
   "metadata": {},
   "source": [
    "If we then apply this new `get_org` function to our dataframe we will see that *ETF* that originally appeared alongside *ARK* in the second row is no longer included:"
   ]
  },
  {
   "cell_type": "code",
   "execution_count": 16,
   "metadata": {
    "tags": []
   },
   "outputs": [
    {
     "data": {
      "text/html": [
       "<div>\n",
       "<style scoped>\n",
       "    .dataframe tbody tr th:only-of-type {\n",
       "        vertical-align: middle;\n",
       "    }\n",
       "\n",
       "    .dataframe tbody tr th {\n",
       "        vertical-align: top;\n",
       "    }\n",
       "\n",
       "    .dataframe thead th {\n",
       "        text-align: right;\n",
       "    }\n",
       "</style>\n",
       "<table border=\"1\" class=\"dataframe\">\n",
       "  <thead>\n",
       "    <tr style=\"text-align: right;\">\n",
       "      <th></th>\n",
       "      <th>id</th>\n",
       "      <th>created_utc</th>\n",
       "      <th>subreddit</th>\n",
       "      <th>title</th>\n",
       "      <th>selftext</th>\n",
       "      <th>upvote_ratio</th>\n",
       "      <th>ups</th>\n",
       "      <th>downs</th>\n",
       "      <th>score</th>\n",
       "      <th>organizations</th>\n",
       "    </tr>\n",
       "  </thead>\n",
       "  <tbody>\n",
       "    <tr>\n",
       "      <th>0</th>\n",
       "      <td>t3_139yfid</td>\n",
       "      <td>1683398660</td>\n",
       "      <td>investing</td>\n",
       "      <td>Low-end primary residence vs index stock portf...</td>\n",
       "      <td>This is quite anecdotal, and only applies to s...</td>\n",
       "      <td>1.00</td>\n",
       "      <td>3</td>\n",
       "      <td>0</td>\n",
       "      <td>3</td>\n",
       "      <td>[150k]</td>\n",
       "    </tr>\n",
       "    <tr>\n",
       "      <th>1</th>\n",
       "      <td>t3_139y0se</td>\n",
       "      <td>1683397773</td>\n",
       "      <td>investing</td>\n",
       "      <td>Loaning shares to short sellers?</td>\n",
       "      <td>So my understanding about short-selling is tha...</td>\n",
       "      <td>0.67</td>\n",
       "      <td>1</td>\n",
       "      <td>0</td>\n",
       "      <td>1</td>\n",
       "      <td>[]</td>\n",
       "    </tr>\n",
       "    <tr>\n",
       "      <th>2</th>\n",
       "      <td>t3_139xtc6</td>\n",
       "      <td>1683397318</td>\n",
       "      <td>investing</td>\n",
       "      <td>AI doesn’t beat human intelligence… Charlie Mu...</td>\n",
       "      <td>Asked ChatGBT what it thinks about the annual ...</td>\n",
       "      <td>0.32</td>\n",
       "      <td>0</td>\n",
       "      <td>0</td>\n",
       "      <td>0</td>\n",
       "      <td>[YouTube, AI]</td>\n",
       "    </tr>\n",
       "    <tr>\n",
       "      <th>3</th>\n",
       "      <td>t3_139wtm2</td>\n",
       "      <td>1683395147</td>\n",
       "      <td>investing</td>\n",
       "      <td>Taxes on dividend income vs salary?</td>\n",
       "      <td>I'm 31 and I make $115k USD pretax and my inve...</td>\n",
       "      <td>0.76</td>\n",
       "      <td>12</td>\n",
       "      <td>0</td>\n",
       "      <td>12</td>\n",
       "      <td>[]</td>\n",
       "    </tr>\n",
       "    <tr>\n",
       "      <th>4</th>\n",
       "      <td>t3_139wt3y</td>\n",
       "      <td>1683395120</td>\n",
       "      <td>investing</td>\n",
       "      <td>Would the demystification and increase in publ...</td>\n",
       "      <td>There are a couple of factors I'm thinking of:...</td>\n",
       "      <td>0.84</td>\n",
       "      <td>26</td>\n",
       "      <td>0</td>\n",
       "      <td>26</td>\n",
       "      <td>[]</td>\n",
       "    </tr>\n",
       "  </tbody>\n",
       "</table>\n",
       "</div>"
      ],
      "text/plain": [
       "           id  created_utc  subreddit  \\\n",
       "0  t3_139yfid   1683398660  investing   \n",
       "1  t3_139y0se   1683397773  investing   \n",
       "2  t3_139xtc6   1683397318  investing   \n",
       "3  t3_139wtm2   1683395147  investing   \n",
       "4  t3_139wt3y   1683395120  investing   \n",
       "\n",
       "                                               title  \\\n",
       "0  Low-end primary residence vs index stock portf...   \n",
       "1                   Loaning shares to short sellers?   \n",
       "2  AI doesn’t beat human intelligence… Charlie Mu...   \n",
       "3                Taxes on dividend income vs salary?   \n",
       "4  Would the demystification and increase in publ...   \n",
       "\n",
       "                                            selftext  upvote_ratio  ups  \\\n",
       "0  This is quite anecdotal, and only applies to s...          1.00    3   \n",
       "1  So my understanding about short-selling is tha...          0.67    1   \n",
       "2  Asked ChatGBT what it thinks about the annual ...          0.32    0   \n",
       "3  I'm 31 and I make $115k USD pretax and my inve...          0.76   12   \n",
       "4  There are a couple of factors I'm thinking of:...          0.84   26   \n",
       "\n",
       "   downs  score  organizations  \n",
       "0      0      3         [150k]  \n",
       "1      0      1             []  \n",
       "2      0      0  [YouTube, AI]  \n",
       "3      0     12             []  \n",
       "4      0     26             []  "
      ]
     },
     "execution_count": 16,
     "metadata": {},
     "output_type": "execute_result"
    }
   ],
   "source": [
    "df['organizations'] = df['selftext'].apply(get_orgs)\n",
    "df.head()"
   ]
  },
  {
   "cell_type": "markdown",
   "metadata": {},
   "source": [
    "We can save our dataframe with the new *organizations* column to file for later use."
   ]
  },
  {
   "cell_type": "code",
   "execution_count": 17,
   "metadata": {
    "tags": []
   },
   "outputs": [],
   "source": [
    "df.to_csv('./data/processed/reddit_investing_ner.csv', sep='|', index=False)"
   ]
  },
  {
   "cell_type": "code",
   "execution_count": null,
   "metadata": {},
   "outputs": [],
   "source": []
  }
 ],
 "metadata": {
  "kernelspec": {
   "display_name": "ML",
   "language": "python",
   "name": "ml"
  },
  "language_info": {
   "codemirror_mode": {
    "name": "ipython",
    "version": 3
   },
   "file_extension": ".py",
   "mimetype": "text/x-python",
   "name": "python",
   "nbconvert_exporter": "python",
   "pygments_lexer": "ipython3",
   "version": "3.10.8"
  }
 },
 "nbformat": 4,
 "nbformat_minor": 4
}
