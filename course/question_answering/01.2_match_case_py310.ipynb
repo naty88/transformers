{
 "cells": [
  {
   "cell_type": "markdown",
   "id": "perceived-vanilla",
   "metadata": {},
   "source": [
    "# SQuAD 2.0 Dataset (Python 3.10)\n",
    "\n",
    "Python 3.10 has introduced something called **Structural Pattern Matching**, which are similiar to switch-case statements (*but would be better named **match-case** in Python*) and allow us to parse our SQuAD data in a cleaner fashion. If you have access to Python 3.10, try this method out - otherwise stick with the previous approach.\n",
    "\n",
    "We will load in our data just as before."
   ]
  },
  {
   "cell_type": "code",
   "execution_count": 1,
   "id": "valuable-swift",
   "metadata": {
    "tags": []
   },
   "outputs": [],
   "source": [
    "import os\n",
    "import json\n",
    "\n",
    "squad_dir = '../../data/squad'\n",
    "\n",
    "with open(os.path.join(squad_dir, 'train-v2.0.json'), 'rb') as f:\n",
    "    squad = json.load(f)"
   ]
  },
  {
   "cell_type": "markdown",
   "id": "aquatic-aurora",
   "metadata": {},
   "source": [
    "The match-case statement logic looks like this:\n",
    "\n",
    "![train-v2.0.json structure](../../assets/images/match_case_logic.png)\n",
    "\n",
    "Let's try applying is to a simple example first so that we can full grasp the logic and syntax."
   ]
  },
  {
   "cell_type": "code",
   "execution_count": 2,
   "id": "bound-sailing",
   "metadata": {
    "tags": []
   },
   "outputs": [
    {
     "name": "stdout",
     "output_type": "stream",
     "text": [
      "I'm a teapot\n"
     ]
    }
   ],
   "source": [
    "# we will be testing the value of our http_code\n",
    "http_code = '418'\n",
    "\n",
    "# we begin the match-case statement with the match keyword and the 'subject' of our statement\n",
    "match http_code:\n",
    "    # now we write multiple cases where if http_code matches the given pattern, we will execute the code\n",
    "    case '200':\n",
    "        print('OK')\n",
    "    case '404':\n",
    "        print('Not found')\n",
    "    case '418':\n",
    "        print(\"I'm a teapot\")\n",
    "    case _:\n",
    "        print('HTTP code not recognized')"
   ]
  },
  {
   "cell_type": "markdown",
   "id": "micro-rolling",
   "metadata": {},
   "source": [
    "Because our `case '418'` pattern matches the subject `http_code`, the `print(\"I'm a teapot\")` block is executed. In this scenerio the code behaves very much like an if-elif-else statement. We even have our *else* equivalent with the `case _` condition at the end, which acts as a *catch-all*:"
   ]
  },
  {
   "cell_type": "code",
   "execution_count": 3,
   "id": "official-pharmacology",
   "metadata": {
    "tags": []
   },
   "outputs": [
    {
     "name": "stdout",
     "output_type": "stream",
     "text": [
      "HTTP code not recognized\n"
     ]
    }
   ],
   "source": [
    "http_code = \"I'm not an HTTP code\"\n",
    "\n",
    "match http_code:\n",
    "    case '200':\n",
    "        print('OK')\n",
    "    case '404':\n",
    "        print('Not found')\n",
    "    case '418':\n",
    "        print(\"I'm a teapot\")\n",
    "    case _:\n",
    "        print('HTTP code not recognized')"
   ]
  },
  {
   "cell_type": "markdown",
   "id": "annoying-significance",
   "metadata": {},
   "source": [
    "Great, so now we have a grasp of these new match-case statements. However, we don't need to check for *exact* matches with our match-case, and for our use-case we don't want to. We will be checking if the returned dictionary structure contains the values we need (eg does is contain a list under *'plausible_answers'*?\n",
    "\n",
    "It's also worth noting that values like empty lists, strings, *0*, and *None* will return as **falsy**. So in the case where we find that *'answers'* exists but just contains an empty list, we will be returning **falsy** and therefore not execute the respective code block.\n",
    "\n",
    "So, let's write it out."
   ]
  },
  {
   "cell_type": "code",
   "execution_count": 4,
   "id": "overhead-dragon",
   "metadata": {
    "tags": []
   },
   "outputs": [],
   "source": [
    "# initialize list where we will place all of our data\n",
    "new_squad = []\n",
    "\n",
    "# we need to loop through groups -> paragraphs -> qa_pairs\n",
    "for group in squad['data']:\n",
    "    for paragraph in group['paragraphs']:\n",
    "        # we pull out the context from here\n",
    "        context = paragraph['context']\n",
    "        for qa_pair in paragraph['qas']:\n",
    "            # we pull out the question\n",
    "            question = qa_pair['question']\n",
    "            # now the NEW match-case logic to check if we have 'answers' or 'plausible_answers'\n",
    "            match qa_pair:\n",
    "                case {'answers': [{'text': answer}]}:\n",
    "                    # this will be truthy IF the qa_pair dictionary contains a 'answers' key\n",
    "                    # which in turn contains a list containing a dictionary with a 'text' key\n",
    "                    # and any value mapping to this 'text' key is assigned to the answer variable\n",
    "                    pass  # because the case pattern assigns 'answer' for us, we pass\n",
    "                case {'plausible_answers': [{'text': answer}]}:\n",
    "                    # we perform same check but for 'plausible_answers'\n",
    "                    pass\n",
    "                case _:\n",
    "                    # this is our catchall, we will set answer to None\n",
    "                    answer = None\n",
    "            # append dictionary sample to parsed squad\n",
    "            new_squad.append({\n",
    "                'question': question,\n",
    "                'answer': answer,\n",
    "                'context': context\n",
    "            })"
   ]
  },
  {
   "cell_type": "code",
   "execution_count": 5,
   "id": "disabled-interaction",
   "metadata": {
    "tags": []
   },
   "outputs": [
    {
     "data": {
      "text/plain": [
       "([{'question': 'When did Beyonce start becoming popular?',\n",
       "   'answer': 'in the late 1990s',\n",
       "   'context': 'Beyoncé Giselle Knowles-Carter (/biːˈjɒnseɪ/ bee-YON-say) (born September 4, 1981) is an American singer, songwriter, record producer and actress. Born and raised in Houston, Texas, she performed in various singing and dancing competitions as a child, and rose to fame in the late 1990s as lead singer of R&B girl-group Destiny\\'s Child. Managed by her father, Mathew Knowles, the group became one of the world\\'s best-selling girl groups of all time. Their hiatus saw the release of Beyoncé\\'s debut album, Dangerously in Love (2003), which established her as a solo artist worldwide, earned five Grammy Awards and featured the Billboard Hot 100 number-one singles \"Crazy in Love\" and \"Baby Boy\".'},\n",
       "  {'question': 'What areas did Beyonce compete in when she was growing up?',\n",
       "   'answer': 'singing and dancing',\n",
       "   'context': 'Beyoncé Giselle Knowles-Carter (/biːˈjɒnseɪ/ bee-YON-say) (born September 4, 1981) is an American singer, songwriter, record producer and actress. Born and raised in Houston, Texas, she performed in various singing and dancing competitions as a child, and rose to fame in the late 1990s as lead singer of R&B girl-group Destiny\\'s Child. Managed by her father, Mathew Knowles, the group became one of the world\\'s best-selling girl groups of all time. Their hiatus saw the release of Beyoncé\\'s debut album, Dangerously in Love (2003), which established her as a solo artist worldwide, earned five Grammy Awards and featured the Billboard Hot 100 number-one singles \"Crazy in Love\" and \"Baby Boy\".'}],\n",
       " [{'question': 'Matter usually does not need to be used in conjunction with what?',\n",
       "   'answer': 'a specifying modifier',\n",
       "   'context': 'The term \"matter\" is used throughout physics in a bewildering variety of contexts: for example, one refers to \"condensed matter physics\", \"elementary matter\", \"partonic\" matter, \"dark\" matter, \"anti\"-matter, \"strange\" matter, and \"nuclear\" matter. In discussions of matter and antimatter, normal matter has been referred to by Alfvén as koinomatter (Gk. common matter). It is fair to say that in physics, there is no broad consensus as to a general definition of matter, and the term \"matter\" usually is used in conjunction with a specifying modifier.'},\n",
       "  {'question': 'What field of study has a variety of unusual contexts?',\n",
       "   'answer': 'physics',\n",
       "   'context': 'The term \"matter\" is used throughout physics in a bewildering variety of contexts: for example, one refers to \"condensed matter physics\", \"elementary matter\", \"partonic\" matter, \"dark\" matter, \"anti\"-matter, \"strange\" matter, and \"nuclear\" matter. In discussions of matter and antimatter, normal matter has been referred to by Alfvén as koinomatter (Gk. common matter). It is fair to say that in physics, there is no broad consensus as to a general definition of matter, and the term \"matter\" usually is used in conjunction with a specifying modifier.'}])"
      ]
     },
     "execution_count": 5,
     "metadata": {},
     "output_type": "execute_result"
    }
   ],
   "source": [
    "new_squad[:2], new_squad[-2:]"
   ]
  },
  {
   "cell_type": "markdown",
   "id": "official-keeping",
   "metadata": {},
   "source": [
    "Perfect, we have the exact same output as produced with our **if-else** version in the previous notebook. We can save our parsed data to file as a JSON like before:"
   ]
  },
  {
   "cell_type": "code",
   "execution_count": 14,
   "id": "registered-shepherd",
   "metadata": {
    "tags": []
   },
   "outputs": [],
   "source": [
    "with open(os.path.join(squad_dir, 'train.json'), 'w') as f:\n",
    "    json.dump(new_squad, f)"
   ]
  },
  {
   "cell_type": "markdown",
   "id": "3708eec9-71bd-4fa6-8eb4-467f2e91b234",
   "metadata": {},
   "source": [
    "### Process the dev dataset"
   ]
  },
  {
   "cell_type": "code",
   "execution_count": 15,
   "id": "0371290e-c42a-436d-bd40-c58ee84ef9f8",
   "metadata": {
    "tags": []
   },
   "outputs": [],
   "source": [
    "with open(os.path.join(squad_dir, 'dev-v2.0.json'), 'rb') as f:\n",
    "    squad = json.load(f)"
   ]
  },
  {
   "cell_type": "code",
   "execution_count": 16,
   "id": "ff5d28e9-81e3-421d-82ab-2ba6b215139b",
   "metadata": {
    "tags": []
   },
   "outputs": [
    {
     "data": {
      "text/plain": [
       "{'qas': [{'question': 'In what country is Normandy located?',\n",
       "   'id': '56ddde6b9a695914005b9628',\n",
       "   'answers': [{'text': 'France', 'answer_start': 159},\n",
       "    {'text': 'France', 'answer_start': 159},\n",
       "    {'text': 'France', 'answer_start': 159},\n",
       "    {'text': 'France', 'answer_start': 159}],\n",
       "   'is_impossible': False},\n",
       "  {'question': 'When were the Normans in Normandy?',\n",
       "   'id': '56ddde6b9a695914005b9629',\n",
       "   'answers': [{'text': '10th and 11th centuries', 'answer_start': 94},\n",
       "    {'text': 'in the 10th and 11th centuries', 'answer_start': 87},\n",
       "    {'text': '10th and 11th centuries', 'answer_start': 94},\n",
       "    {'text': '10th and 11th centuries', 'answer_start': 94}],\n",
       "   'is_impossible': False},\n",
       "  {'question': 'From which countries did the Norse originate?',\n",
       "   'id': '56ddde6b9a695914005b962a',\n",
       "   'answers': [{'text': 'Denmark, Iceland and Norway', 'answer_start': 256},\n",
       "    {'text': 'Denmark, Iceland and Norway', 'answer_start': 256},\n",
       "    {'text': 'Denmark, Iceland and Norway', 'answer_start': 256},\n",
       "    {'text': 'Denmark, Iceland and Norway', 'answer_start': 256}],\n",
       "   'is_impossible': False},\n",
       "  {'question': 'Who was the Norse leader?',\n",
       "   'id': '56ddde6b9a695914005b962b',\n",
       "   'answers': [{'text': 'Rollo', 'answer_start': 308},\n",
       "    {'text': 'Rollo', 'answer_start': 308},\n",
       "    {'text': 'Rollo', 'answer_start': 308},\n",
       "    {'text': 'Rollo', 'answer_start': 308}],\n",
       "   'is_impossible': False},\n",
       "  {'question': 'What century did the Normans first gain their separate identity?',\n",
       "   'id': '56ddde6b9a695914005b962c',\n",
       "   'answers': [{'text': '10th century', 'answer_start': 671},\n",
       "    {'text': 'the first half of the 10th century', 'answer_start': 649},\n",
       "    {'text': '10th', 'answer_start': 671},\n",
       "    {'text': '10th', 'answer_start': 671}],\n",
       "   'is_impossible': False},\n",
       "  {'plausible_answers': [{'text': 'Normans', 'answer_start': 4}],\n",
       "   'question': \"Who gave their name to Normandy in the 1000's and 1100's\",\n",
       "   'id': '5ad39d53604f3c001a3fe8d1',\n",
       "   'answers': [],\n",
       "   'is_impossible': True},\n",
       "  {'plausible_answers': [{'text': 'Normandy', 'answer_start': 137}],\n",
       "   'question': 'What is France a region of?',\n",
       "   'id': '5ad39d53604f3c001a3fe8d2',\n",
       "   'answers': [],\n",
       "   'is_impossible': True},\n",
       "  {'plausible_answers': [{'text': 'Rollo', 'answer_start': 308}],\n",
       "   'question': 'Who did King Charles III swear fealty to?',\n",
       "   'id': '5ad39d53604f3c001a3fe8d3',\n",
       "   'answers': [],\n",
       "   'is_impossible': True},\n",
       "  {'plausible_answers': [{'text': '10th century', 'answer_start': 671}],\n",
       "   'question': 'When did the Frankish identity emerge?',\n",
       "   'id': '5ad39d53604f3c001a3fe8d4',\n",
       "   'answers': [],\n",
       "   'is_impossible': True}],\n",
       " 'context': 'The Normans (Norman: Nourmands; French: Normands; Latin: Normanni) were the people who in the 10th and 11th centuries gave their name to Normandy, a region in France. They were descended from Norse (\"Norman\" comes from \"Norseman\") raiders and pirates from Denmark, Iceland and Norway who, under their leader Rollo, agreed to swear fealty to King Charles III of West Francia. Through generations of assimilation and mixing with the native Frankish and Roman-Gaulish populations, their descendants would gradually merge with the Carolingian-based cultures of West Francia. The distinct cultural and ethnic identity of the Normans emerged initially in the first half of the 10th century, and it continued to evolve over the succeeding centuries.'}"
      ]
     },
     "execution_count": 16,
     "metadata": {},
     "output_type": "execute_result"
    }
   ],
   "source": [
    "squad[\"data\"][0][\"paragraphs\"][0]"
   ]
  },
  {
   "cell_type": "code",
   "execution_count": 36,
   "id": "67ba0338-e117-4d4e-b3de-2654d7acc025",
   "metadata": {
    "tags": []
   },
   "outputs": [],
   "source": [
    "new_squad_dev = []\n",
    "\n",
    "for group in squad[\"data\"]:\n",
    "    for paragraph in group['paragraphs']:\n",
    "        # we pull out the context from here\n",
    "        context = paragraph['context']\n",
    "        for qa_pair in paragraph['qas']:\n",
    "            # we pull out the question\n",
    "            question = qa_pair['question']\n",
    "            match qa_pair:\n",
    "                case {'answers': answer_list}:\n",
    "                    pass\n",
    "                case {'plausible_answers': answer_list}:\n",
    "                    pass\n",
    "                case _:\n",
    "                    answer = None\n",
    "            # if \"answers\" in qa_pair.keys() and len(qa_pair[\"answers\"]) > 0:\n",
    "            #     answer_list = qa_pair[\"answers\"]\n",
    "            # elif \"plausible_answers\" in qa_pair.keys() and len(qa_pair[\"plausible_answers\"]) > 0:\n",
    "            #     answer_list = qa_pair[\"plausible_answers\"]\n",
    "            # else:\n",
    "            #     answer_list = []\n",
    "            answer_list = [item['text'] for item in answer_list]\n",
    "            answer_list = list(set(answer_list))\n",
    "            for answer in answer_list:\n",
    "                # append dictionary sample to parsed squad\n",
    "                new_squad_dev.append({\n",
    "                    'question': question,\n",
    "                    'answer': answer,\n",
    "                    'context': context\n",
    "                })"
   ]
  },
  {
   "cell_type": "code",
   "execution_count": 34,
   "id": "1eb76159-6063-47be-9e44-095c83b1c687",
   "metadata": {
    "tags": []
   },
   "outputs": [],
   "source": [
    "with open(os.path.join(squad_dir, 'dev.json'), 'w') as f:\n",
    "    json.dump(new_squad_dev, f)"
   ]
  },
  {
   "cell_type": "code",
   "execution_count": null,
   "id": "d7cb63c7-976c-453b-ae81-433c1fa660a3",
   "metadata": {},
   "outputs": [],
   "source": []
  },
  {
   "cell_type": "code",
   "execution_count": null,
   "id": "7cb20025-a688-4f0b-96d2-4cc7b2910e7a",
   "metadata": {},
   "outputs": [],
   "source": []
  },
  {
   "cell_type": "code",
   "execution_count": null,
   "id": "160c9145-55ff-4950-9c18-50f42e8d94b6",
   "metadata": {},
   "outputs": [],
   "source": []
  }
 ],
 "metadata": {
  "kernelspec": {
   "display_name": "Python 3 (ipykernel)",
   "language": "python",
   "name": "python3"
  },
  "language_info": {
   "codemirror_mode": {
    "name": "ipython",
    "version": 3
   },
   "file_extension": ".py",
   "mimetype": "text/x-python",
   "name": "python",
   "nbconvert_exporter": "python",
   "pygments_lexer": "ipython3",
   "version": "3.10.8"
  }
 },
 "nbformat": 4,
 "nbformat_minor": 5
}
